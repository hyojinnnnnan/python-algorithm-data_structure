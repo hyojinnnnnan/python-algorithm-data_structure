{
 "cells": [
  {
   "cell_type": "markdown",
   "metadata": {},
   "source": [
    "## 문제 2309번\n",
    "- 작성일 : 25년 3월 4일  \n",
    "- https://www.acmicpc.net/problem/2309"
   ]
  },
  {
   "cell_type": "markdown",
   "metadata": {},
   "source": [
    "### 알고리즘 : 완전 탐색\n",
    "- 완전 탐색은 input의 크기가 유난히 작으면서 모든 경우의 수를 탐색하는 코드 구현이 가능할 경우에 고민해보는 것이 좋다.\n",
    "\n",
    "- 완전 탐색은 모든 경우의 수를 빠뜨리지 않고 탐색할 수 있게 구현하는 것이 중요하다."
   ]
  },
  {
   "cell_type": "markdown",
   "metadata": {},
   "source": [
    "### 구해야 하는 정답\n",
    "> 키의 합이 100이 되는 일곱 난쟁이를 오름차순 정렬\n",
    "- 제한 시간 : 2초 (코딩테스트에서는 1억번의 연산이 대략 1초 정도 걸린다고 생각하면 쉽습니다.)"
   ]
  },
  {
   "cell_type": "markdown",
   "metadata": {},
   "source": [
    "### 풀이 하기\n",
    "\n",
    "#### 1) 9명 중에서 키의 합이 100이 되는 난쟁이 7명 선택하기 \n",
    "\n",
    "- 7명을 선택하는 모든 경우의 수를 만드는 코드보다\n",
    "- 제외할 2명을 선택하는 모든 경우의 수를 만드는 코드가 더 쉬움\n",
    "\n",
    "9명 중 2명을 선택하는 모든 경우의 수는 `9*8=72`, 총 72가지  \n",
    "2초의 시간 제한안에 아주 넉넉하게 완전 탐색이 가능\n",
    "\n",
    "#### 2) 7명의 키의 합이 100인지 확인인\n",
    "\n",
    "#### 3) 난쟁이의 키를 오름차순으로 출력하기 \n",
    "\n",
    "7명의 키의 합이 100을 만족하는지 확인한 이후에 정렬을 해도 좋지만,  \n",
    "9명의 Input을 받고나서 9명의 배열을 바로 정렬하면   \n",
    "7명의 난쟁이를 선택하고 바로 정답을 출력할 수 있기 때문에 조금 더 편리하다.  \n",
    "\n",
    "정렬 함수의 경우 보통 언어들마다 내장된 함수들이 있으며  \n",
    "거의 모든 언어의 정렬 함수는 N개의 원소를 정렬 할 때 `O(NlogN)`의 시간복잡도를 가진다.   \n",
    "\n",
    "python은 timesort 알고리즘을 사용하는 `sort()`함수가 존재"
   ]
  },
  {
   "cell_type": "markdown",
   "metadata": {},
   "source": [
    "### 코드 설계 (정답)\n",
    "\n",
    "1. 문제의 Input을 받습니다.\n",
    "2. Input을 받으면서 아홉 난쟁이의 키의 합을 미리 구해둡니다.\n",
    "3. 정답을 오름차순으로 출력해야 하므로, 아홉 난쟁이의 키를 입력받은 배열을 미리 정렬합니다.\n",
    "4. 9명 중 2명을 제외하는 모든 경우의 수를 탐색하는 for loop를 구현합니다.\n",
    "5. 제외 된 2명을 빼고 총 합이 100을 만족하는지 확인합니다.\n",
    "6. 총 합이 100을 만족할 경우 정답을 출력하고 for loop를 탈출합니다.\n"
   ]
  },
  {
   "cell_type": "code",
   "execution_count": null,
   "metadata": {},
   "outputs": [],
   "source": [
    "import sys\n",
    "\n",
    "def print_ans(p_arr, p_idx1, p_idx2):\n",
    "    for i in range(9):\n",
    "        if i==p_idx1 or i==p_idx2:\n",
    "            continue\n",
    "        else:\n",
    "            print(p_arr[i])\n",
    "\n",
    "#1. 문제의 입력을 받는다. \n",
    "arr = []  # 입력값을 저장할 배열\n",
    "total = 0  # 입력값들의 합\n",
    "for i in range(9):\n",
    "    arr.append(int(sys.stdin.readline()))\n",
    "    total += arr[i]  #2. 입력을 받으면서 아홉 난쟁이의 키의 합을 미리 구한다.\n",
    "\n",
    "#3. 정답을 오름차순으로 출력해야 하기에, 입력받은 배열을 정렬한다.\n",
    "arr.sort()\n",
    "\n",
    "#4. 9명의 난쟁이 중 2명을 제외하는 모든 경우의 수\n",
    "found_ans = False\n",
    "for i in range(0, 9):\n",
    "    if found_ans:\n",
    "        break\n",
    "    else:\n",
    "        for j in range(i+1, 9):\n",
    "            #5. 제외한 두명의 키를 전체 합에서 뺐을 때, 100을 만족하는지 확인합니다.\n",
    "            now = total - arr[i] - arr[j]\n",
    "            if now == 100:\n",
    "                #6. 정답을 만족하는 경우 해당 배열에서 두 난쟁이를 제외하고 출력합니다.\n",
    "                print_ans(arr, i, j)\n",
    "                found_ans = True\n",
    "                break\n"
   ]
  },
  {
   "cell_type": "markdown",
   "metadata": {},
   "source": [
    "### 코드 설계 1"
   ]
  },
  {
   "cell_type": "code",
   "execution_count": null,
   "metadata": {},
   "outputs": [],
   "source": [
    "import sys\n",
    "\n",
    "#1. 문제의 입력을 받고 오름차순으로 정렬한다.\n",
    "input_arr = sorted([int(sys.stdin.readline().rstrip()) for _ in range(9)])\n",
    "\n",
    "#2. 배열이 전체 합에서 100을 뺀 값을 구한다.\n",
    "extra_nums = sum(input_arr) - 100\n",
    "\n",
    "# 배열의 전체 합에서 100을 뺀 값과 일치하는 합을 갖는 숫자 2개를 찾는다.\n",
    "flag = False\n",
    "for i in range(9):\n",
    "    if flag: break\n",
    "    num1 = input_arr[i]\n",
    "\n",
    "    for j in range(i+1, 9):\n",
    "        num2 = input_arr[j]\n",
    "        \n",
    "        if extra_nums == num1+num2:\n",
    "            #3. 숫자 2개를 찾으면 배열에서 그 값들을 제거한다.\n",
    "            input_arr.remove(num1)  # O(N) 연산 발생\n",
    "            input_arr.remove(num2)  # O(N) 연산 발생\n",
    "            flag = True\n",
    "            break\n",
    "\n",
    "# 4. 정답을 출력한다.\n",
    "for n in input_arr:\n",
    "    print(n)"
   ]
  },
  {
   "cell_type": "markdown",
   "metadata": {},
   "source": [
    "`remove()`를 사용하면 탐색 비용이 추가된다.\n",
    "- `list.remove(value)`의 시간 복잡도: `O(N)`\n",
    "- `remove(value)`를 사용하면, 리스트에서 해당 값을 찾아 삭제해야 한다.\n",
    "- 리스트는 인덱스 기반 자료구조이므로, 특정 값을 찾기 위해 처음 부터 끝까지 순회(`(O(N)`)해야 한다.\n",
    "- 따라서, 리스트의 길이가 길어질 수록 `remove()` 의 성능이 나빠진다.\n",
    "- 특히, `remove()` 를 여러 번 호출하면 총 연산량이 `O(N²)`까지 증가할 수 있다.\n",
    "\n",
    "따라서,리스트에서 특정 요소를 제거할 때 `remove()`를 반복적으로 사용하는 것보다 리스트 컴프리헨션을 활용하는 것이 더 효율적이다"
   ]
  },
  {
   "cell_type": "markdown",
   "metadata": {},
   "source": [
    "### 코드 설계 2"
   ]
  },
  {
   "cell_type": "code",
   "execution_count": null,
   "metadata": {},
   "outputs": [],
   "source": [
    "import sys\n",
    "\n",
    "arr = sorted([int(sys.stdin.readline().strip()) for _ in range(9)])\n",
    "total = sum(arr)\n",
    "\n",
    "flag = False\n",
    "for i in range(9):\n",
    "    if flag: break\n",
    "    \n",
    "    for j in range(i+1, 9):\n",
    "        if total - arr[i] - arr[j] == 100:\n",
    "            result_arr = [arr[k] for k in range(9) if k!=i and k!=j]\n",
    "            flag = True\n",
    "            print(\"\\n\".join(map(str, result_arr)))\n",
    "            # join() 함수는 문자열 리스트만 받을 수 있어서 int 리스트를 직접 전달하면 에러가 발생\n",
    "            # 따라서, map을 통해해 result 리스트의 모든 정수를 문자열로 변환하는 것이 필요\n",
    "            break"
   ]
  },
  {
   "cell_type": "markdown",
   "metadata": {},
   "source": [
    "`map()` 함수란?\n",
    "- 리스트(또는 반복 가능한 객체)의 모든 요소에 특정 함수를 적용할 때 사용하는 파이썬 내장 함수\n",
    "\n",
    "- 기본 사용법 : `map(적용할 함수, 반복 가능한 객체)`\n",
    "  - 결과는 map 객체(이터레이터)로 반환되며, `list()`나 `tuple()`로 변환해서 사용할 수 있음.\n",
    "\n",
    "- 일반적으로 `map()`은 `lambda(익명 함수)`와 함께 많이 사용된다."
   ]
  },
  {
   "cell_type": "markdown",
   "metadata": {},
   "source": [
    "기존 코드에서 새로운 리스트를 만든 이유는 \n",
    "- `arr[i]`와 `arr[j]`를 제외한 새로운 리스트를 만들어서 출력하려고 했음.\n",
    "\n",
    "- `map(str, result_arr)`를 써서 문자열 변환을 한 번에 처리.\n",
    "\n",
    "`result_arr` 이라는 새로운 리스트를 만드는 것이 꼭 필요했을까?\n",
    "- 새로운 리스트(`result_arr`)를 만드는 것은 불필요한 연산\n",
    "\n",
    "- 이 문제는 \"리스트를 수정하는 방식\"이 아니라 \"출력할 때 제외하는 방식\"이 가장 직관적이다.\n",
    "\n",
    "- `map()`을 사용하려고 리스트를 따로 만들 필요가 없고, 기존 리스트에서 직접 출력하는 것이 더 깔끔하다."
   ]
  },
  {
   "cell_type": "markdown",
   "metadata": {},
   "source": [
    "### 코드 설계 3"
   ]
  },
  {
   "cell_type": "code",
   "execution_count": null,
   "metadata": {},
   "outputs": [],
   "source": [
    "import sys\n",
    "\n",
    "arr = sorted([int(sys.stdin.readline().strip()) for _ in range(9)])\n",
    "total = sum(arr)\n",
    "\n",
    "found = False\n",
    "for i in range(9):\n",
    "    if found: break\n",
    "\n",
    "    for j in range(i+1, 9):\n",
    "        if total - arr[i] - arr[j] == 100:\n",
    "            found = True\n",
    "            for k in range(9):\n",
    "                if k!=i and k!=j:\n",
    "                    print(arr[k])\n",
    "            break"
   ]
  },
  {
   "cell_type": "markdown",
   "metadata": {},
   "source": [
    "## 같이 풀면 좋은 문제: 문제 15552번\n",
    "https://www.acmicpc.net/problem/15552"
   ]
  },
  {
   "cell_type": "code",
   "execution_count": null,
   "metadata": {},
   "outputs": [],
   "source": [
    "import sys\n",
    "\n",
    "repeat_num = int(sys.stdin.readline().strip())\n",
    "\n",
    "results = []\n",
    "append_result = results.append  # `append()` 메소드를 변수로 할당하여 속도 향상\n",
    "# for 루프에서 append()를 여러 번 호출하는 경우, 객체 탐색 시간을 줄여서 실행 속도가 빨라짐.\n",
    "\n",
    "for _ in range(repeat_num):\n",
    "    input_sum = sum(map(int, sys.stdin.readline().split()))\n",
    "    append_result(str(input_sum))\n",
    "\n",
    "sys.stdout.write(\"\\n\".join(results))"
   ]
  }
 ],
 "metadata": {
  "kernelspec": {
   "display_name": "Python 3",
   "language": "python",
   "name": "python3"
  },
  "language_info": {
   "codemirror_mode": {
    "name": "ipython",
    "version": 3
   },
   "file_extension": ".py",
   "mimetype": "text/x-python",
   "name": "python",
   "nbconvert_exporter": "python",
   "pygments_lexer": "ipython3",
   "version": "3.12.9"
  }
 },
 "nbformat": 4,
 "nbformat_minor": 2
}
