{
 "cells": [
  {
   "cell_type": "markdown",
   "metadata": {},
   "source": [
    "## 문제 7568번: 구현\n",
    "- https://www.acmicpc.net/problem/7568\n",
    "\n",
    "### 구해야 하는 정답\n",
    "- 모든 사람들의 덩치 등수(자신보다 덩치가 큰 사람 + 1) 의 값을 구해야 한다다\n",
    "\n",
    "### 풀이 하기\n",
    "#### 1. 모든 사람의 덩치 등수 구하기\n",
    "- 모든 사람들과 한 번씩 자신을 비교해야 한다: **완전탐색 (브루트포스)**\n",
    "  - N명의 사람이 있다면, N-1 번 비교가 필요\n",
    "  - 시간복잡도: `O(N) * O(N-1)` 즉, `O(N^2)`\n",
    "\n",
    "#### 2. 덩치 비교 구현하기\n",
    "- 0 부터 N-1 까지의 각각의 사람에 대해 자신과 덩치를 비교한다 (이때 자신과는 비교할 필요가 없다)\n",
    "  - 자신보다 덩치가 큰 사람의 수를 COUNT 한다 (덩치의 등수는 COUNT+1 로 구해야 한다)"
   ]
  },
  {
   "cell_type": "markdown",
   "metadata": {},
   "source": [
    "### 코드 설계 (정답)\n",
    "\n",
    "- 문제의 INPUT을 받는다\n",
    "\n",
    "- 각 사람의 덩치 등수를 기록할 배열을 선언한다\n",
    "- 각 사람에 대해 자신이 아닌 모든 사람과 비교한다\n",
    "  - 자신보다 덩치가 큰 사람의 수를 COUNT 한다\n",
    "- 덩치 등수를 배열에 추가한다\n",
    "- 출력 형식에 맞게 덩치 등수 배열을 출력한다"
   ]
  },
  {
   "cell_type": "code",
   "execution_count": null,
   "metadata": {},
   "outputs": [],
   "source": [
    "import sys\n",
    "\n",
    "# 1. 문제의 input을 받는다\n",
    "N = int(sys.stdin.readline())\n",
    "\n",
    "arr = []\n",
    "for _ in range(N):\n",
    "    w, h = sys.stdin.readline().split()\n",
    "    arr.append([int(w), int(h)])\n",
    "\n",
    "# 2. 각 사람의 덩치 등수를 기록할 배열을 선언한다\n",
    "rank_arr = []\n",
    "\n",
    "# 3. 자신이 나니 모든 사람과 비교하며, 자신보다 덩치가 큰 사람의 수 세기\n",
    "for i in range(N):\n",
    "    rank = 1 \n",
    "    for j in range(N):\n",
    "        if i == j:\n",
    "            continue  # 자신과는 비교할 필요가 없어서 다음 반복문으로 건너 뜀\n",
    "        if arr[i][0] < arr[j][0] and arr[i][1] < arr[j][1]:\n",
    "            rank += 1  # 자신보다 덩치가 큰 사람의 수를 count\n",
    "    \n",
    "    # 4. 덩치 등수를 배열에 추가한다\n",
    "    rank_arr.append(rank)\n",
    "\n",
    "# 5. 출력 형식에 맞게 덩치 등수 배열을 출력한다\n",
    "print(\" \".join(map(str, rank_arr)))"
   ]
  },
  {
   "cell_type": "markdown",
   "metadata": {},
   "source": [
    "### 코드 설계 1"
   ]
  },
  {
   "cell_type": "code",
   "execution_count": null,
   "metadata": {},
   "outputs": [],
   "source": [
    "import sys\n",
    "N = int(sys.stdin.readline().strip())\n",
    "\n",
    "info = []\n",
    "for _ in range(N):\n",
    "    info.append(list(map(int, sys.stdin.readline().split())) + [0])  # [몸무게, 키, 나보다 큰 사람]\n",
    "\n",
    "for i in info:\n",
    "    current_w = i[0]  # 몸무게\n",
    "    current_h = i[1]  # 키\n",
    "    current_bigP = i[2]  # 나보다 큰 사람\n",
    "\n",
    "    for j in info:\n",
    "        other_w = j[0]  # 몸무게\n",
    "        other_h = j[1]  # 키\n",
    "\n",
    "        if current_w < other_w and current_h < other_h:\n",
    "            current_bigP += 1\n",
    "    \n",
    "    i[2] = current_bigP + 1\n",
    "\n",
    "\n",
    "print(\" \".join(str(row[2]) for row in info))\n",
    "#print(\" \".join(map(str, [row[2] for row in info])))"
   ]
  },
  {
   "cell_type": "markdown",
   "metadata": {},
   "source": [
    "### 코드 설계 2\n",
    "\n",
    "1. 리스트 컴프리헨션을 사용한 데이터 입력\n",
    "\n",
    "    - 기존 리스트를 수정하지 않고, N개의 리스트를 한 번에 생성하여 `info` 에 할당\n",
    "      - 한 번의 연산으로 리스트를 생성하기 때문에 [제출 1] 보다 빠름\n",
    "\n",
    "    - 제출 1의 방식은 `info` 리스트를 먼저 생성한 후, `append()` 를 사용하여 값을 하나씩 추가\n",
    "      - 리스트를 매번 업데이트하는 방식 (기존 리스트 수정)\n",
    "      \n",
    "      - `append()` 는 `O(1)` 이므로 개별 추가 비용은 낮지만, 전체적으로는 N번 실행됨\n",
    "\n",
    "2. `+ [1]` 연산 을 통한 리스트 확장 대신 `.append(1)` 를 통해 리스트 직접 수정\n",
    "\n",
    "    - `+` 연산: 새로운 리스트를 만들어 기존 리스트와 결합\n",
    "\n",
    "    - `append()`: 기존 리스트에 요소 추가\n",
    "\n",
    "3. 불필요한 변수 제거 (current_w, current_h 제거)\n",
    "    - 직접 참조하도록 변경하여 변수 제거\n",
    "\n",
    "4. `if i != j` 조건 추가하여 자기 자신 비교 방지 (반복문 내에서 비교 횟수 감소)"
   ]
  },
  {
   "cell_type": "code",
   "execution_count": null,
   "metadata": {},
   "outputs": [],
   "source": [
    "import sys\n",
    "N = int(sys.stdin.readline().strip())\n",
    "\n",
    "info = [list(map(int, sys.stdin.readline().strip().split())) for _ in range(N)]  # 1\n",
    "\n",
    "for i in range(len(info)):\n",
    "    info[i].append(1)  # 2\n",
    "    for j in range(len(info)):\n",
    "        if i!=j and (info[i][0] < info[j][0] and info[i][1] < info[j][1]):  # 3, 4\n",
    "            info[i][2] += 1\n",
    "\n",
    "print(\" \".join(str(i[2]) for i in info))"
   ]
  }
 ],
 "metadata": {
  "kernelspec": {
   "display_name": "Python 3",
   "language": "python",
   "name": "python3"
  },
  "language_info": {
   "codemirror_mode": {
    "name": "ipython",
    "version": 3
   },
   "file_extension": ".py",
   "mimetype": "text/x-python",
   "name": "python",
   "nbconvert_exporter": "python",
   "pygments_lexer": "ipython3",
   "version": "3.12.9"
  }
 },
 "nbformat": 4,
 "nbformat_minor": 2
}
