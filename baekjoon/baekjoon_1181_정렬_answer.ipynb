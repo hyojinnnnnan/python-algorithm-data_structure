{
 "cells": [
  {
   "cell_type": "markdown",
   "metadata": {},
   "source": [
    "## 문제 1181번: 정렬\n",
    "- https://www.acmicpc.net/problem/1181\n",
    "\n",
    "### 구해야 하는 정답\n",
    "중복이 제거된 N개의 단어를 정렬하여 출력\n",
    "  - 길이가 짧은 순\n",
    "  - 길이가 같으면 사전 순\n",
    "\n",
    "### 풀이 하기\n",
    "#### 1. 중복된 단어 제거하기\n",
    "- 입력받은 모든 단어를 `set` 에 넣어 중복된 단어를 제거 \n",
    "  - `set` 에 원소 하나를 추가하는 시간 복잡도: `O(1)`\n",
    "    - N개의 단어를 넣어야 하므로, 총 `O(N)`\n",
    "\n",
    "#### 2. 조건에 맞게 정렬하기\n",
    "- 두 가지 정렬 조건이 있고, 정렬의 우선순위가 있음\n",
    "  - N개를 정렬하는 시간 복잡도: `O(NlogN)`\n",
    "- **각각의 조건에 맞게 정렬되도록 다차원 배열로 INPUT을 변환**: `[단어의 길이, 단어]`\n",
    "  - 다차원 배열을 정렬하면 별도의 정렬 조건을 **지정하지 않을 경우**\n",
    "    - 1열 > 2열 > 3열 > ... 의 순서로 정렬이 된다\n",
    "\n"
   ]
  },
  {
   "cell_type": "markdown",
   "metadata": {},
   "source": [
    "### 코드 설계 (정답)\n",
    "\n",
    "- 문제의 INPUT을 받는다\n",
    "\n",
    "- 단어의 중복을 제거하기 위해 `set` 에 추가한다\n",
    "- `set` 안의 원소들을 탐색하며 조건에 맞는 정렬의 형태로 단어를 저장한다\n",
    "- `list` 를 정렬한다\n",
    "- 출력 조건에 맞게 단어만 출력한다"
   ]
  },
  {
   "cell_type": "code",
   "execution_count": null,
   "metadata": {},
   "outputs": [],
   "source": [
    "import sys\n",
    "\n",
    "# 1. 문제의 입력을 받는다\n",
    "N = int(sys.stdin.readline())\n",
    "s1 = set()  # set 객체 선언\n",
    "for i in range(N):\n",
    "    str = sys.stdin.readline().strip()\n",
    "    s1.add(str)  # 2. 단어의 중복을 제거하기 위해 set에 추가한다\n",
    "\n",
    "# 3. set 안의 원소들을 탐색하며 조건에 맞는 정렬의 형태로 단어를 저장한다 (길이, 단어)\n",
    "arr1 = []\n",
    "for item in s1:\n",
    "    arr1.append([len(item), item])\n",
    "\n",
    "# 4. list를 정렬한다\n",
    "arr1.sort()\n",
    "\n",
    "# 5. 출력 조건에 맞게 단어만 출력한다\n",
    "for item in arr1:\n",
    "    print(item[1])"
   ]
  },
  {
   "cell_type": "markdown",
   "metadata": {},
   "source": [
    "### 코드 설계 1\n",
    "\n",
    "- 입력값을 받는다 \n",
    "  - 단어의 개수 N\n",
    "  - 단어 N번 : 입력을 받을 때부터 중복을 제거하기 위해 `set()`에 입력값을 저장한다\n",
    "  \n",
    "- 길이 > 알파벳 순으로 정렬한다\n",
    "- 결과값을 출력한다"
   ]
  },
  {
   "cell_type": "code",
   "execution_count": null,
   "metadata": {},
   "outputs": [],
   "source": [
    "import sys\n",
    "\n",
    "n = int(sys.stdin.readline().strip())\n",
    "\n",
    "words_set = set()\n",
    "for _ in range(n):\n",
    "    words_set.add(sys.stdin.readline().strip())\n",
    "\n",
    "result = sorted(words_set, key=lambda w: (len(w), w))\n",
    "for w in result:\n",
    "    print(w)"
   ]
  },
  {
   "cell_type": "markdown",
   "metadata": {},
   "source": [
    "#### **컬렉션 자료형 : 리스트, 튜플, 세트**\n",
    "\n",
    "|특성|리스트 `list[]`|튜플 `tuple()`|세트 `set{}`|\n",
    "|---|---|---|---|\n",
    "|빈 객체 선언|`[]`, `list()`|`()`, `tuple()`|`set()`|\n",
    "|순서 유지|O|O|X|\n",
    "|인덱싱|`list[i]`|`tuple[i]`|X|\n",
    "|변경 가능|O mutable|X immutable|O mutable|\n",
    "|중복 허용|O|O|X|\n",
    "|요소 추가|`list.append(x)`, `list.insert(i,x)`|X|`set.add(x)`, `set.update(iterable)`|\n",
    "|요소 삭제|`list.remove(x)`, `list.pop(i)`, `list.clear()`|X|`set.remove(x)`, `set.discard(x)`, `set.pop()`, `set.clear()`|\n",
    "|정렬|`list.sort()`, `sorted(list)`|`sorted(tuple)`|`sorted(set)`|\n",
    "|역순 정렬|`list.reverse()`|`tuple[::-1]`|X|\n",
    "\n",
    "##### `set` 는 순서가 없는데 정렬은 어떻게 가능하지?\n",
    "> `set`은 순서가 없는 자료형이지만,  \n",
    "> `sorted()` 함수는 반복 가능한(iterable) 객체라면 정렬된 **리스트**를 반환하기 때문에 정렬이 가능하다.\n",
    "\n",
    "##### 각각 언제 사용하면 좋을까?\n",
    "- 리스트 `list`\n",
    "  - 데이터를 자주 추가/변경/삭제해야 할 때\n",
    "  - 순서가 중요하고, 인덱스로 접근해야 할 때\n",
    "- 튜플 `tuple`\n",
    "  - 값이 고정된 경우 (변경할 필요 없는 데이터)\n",
    "  - 실행 속도를 더 빠르게 하고 싶을 때 (튜플이 리스트보다 성능이 더 좋음)\n",
    "- 세트 `set`\n",
    "  - 중복된 데이터를 자동으로 제거해야 할 때\n",
    "  - **집합 연산(교집합, 합집합, 차집합 등)** 을 해야 할 때"
   ]
  },
  {
   "cell_type": "markdown",
   "metadata": {},
   "source": []
  }
 ],
 "metadata": {
  "kernelspec": {
   "display_name": "Python 3",
   "language": "python",
   "name": "python3"
  },
  "language_info": {
   "codemirror_mode": {
    "name": "ipython",
    "version": 3
   },
   "file_extension": ".py",
   "mimetype": "text/x-python",
   "name": "python",
   "nbconvert_exporter": "python",
   "pygments_lexer": "ipython3",
   "version": "3.12.9"
  }
 },
 "nbformat": 4,
 "nbformat_minor": 2
}
