{
 "cells": [
  {
   "cell_type": "markdown",
   "metadata": {},
   "source": [
    "## 문제 10814번: 정렬\n",
    "- 작성일 : 25년 3월 5일\n",
    "- https://www.acmicpc.net/problem/10814\n",
    "\n",
    "### 구해야 하는 정답\n",
    "\n",
    "- 회원들의 나이와 이름을 정렬하여 출력\n",
    "  - 정렬 기준 1. 나이가 증가하는 순\n",
    "  - 정렬 기준 2. 나이가 같다면 먼저 가입한 순\n",
    "\n",
    "### 풀이 하기\n",
    "\n",
    "#### 1. 회원을 조건에 맞게 정렬하기\n",
    "\n",
    "정렬의 시간 복잡도는 `O(NlogN)` 이다.   \n",
    "이 문제에서 N 회원의 수이고 최대 10,000이기 때문에 정렬 시 연산이 약 500,000번(5 * 100,000) 필요하다.  \n",
    "\n",
    "> `LogN`은 컴퓨터공학에서 밑이 2 이지만, 코딩테스트 문제 풀이 시 10으로 계산해도 무방하다.  \n",
    "\n",
    "일반적으로 정렬 함수에 아무런 조건을 지정하지 않고 다차원 배열을 정렬할 경우, 정렬 우선순위가 앞의 열부터 생긴다.  \n",
    "문제의 input을 이중 배열로 `[[나이, 이름]]` 저장했을 때 1열(나이)만으로 정렬이 되어야 한다.   \n",
    "나이가 같을 경우에는 input이 입력된 기존 배열의 순서를 그대로 따라야 한다.  "
   ]
  },
  {
   "cell_type": "markdown",
   "metadata": {},
   "source": [
    "### 코드 설계 (정답)\n",
    "\n",
    "- 문제의 input을 받는다 : 이차원 배열\n",
    "- 배열을 1열을 기준으로 1열의 값이 같을 경우 입력 순서가 유지되도록 정렬한다\n",
    "- 정렬한 배열을 출력한다"
   ]
  },
  {
   "cell_type": "code",
   "execution_count": null,
   "metadata": {},
   "outputs": [],
   "source": [
    "import sys\n",
    "\n",
    "# 1. input 값을 받는다\n",
    "N = int(sys.stdin.readline())\n",
    "arr = []\n",
    "for _ in range(N):\n",
    "    age, name = sys.stdin.readline().split()\n",
    "    arr.append([int(age), name])  # input 값을 이중 배열 [[]] 형태로 저장\n",
    "\n",
    "# 2. 2차원 배열을 정렬한다\n",
    "arr.sort(key=lambda x: x[0])  # 나이(배열의 0번째 인덱스)로 정렬하고, 나이가 같은 경우 원래 배열 순서대로 출력\n",
    "for i in arr:\n",
    "    print(i[0], i[1]) # 3. 정렬한 배열을 출력한다"
   ]
  },
  {
   "cell_type": "markdown",
   "metadata": {},
   "source": [
    "### 코드 설계 1\n",
    "- 첫번째 입력값을 받는다\n",
    "- 첫번째 입력값의 수 만큼 반복하여 입력값을 받는다 : `[(입력된 순서, 나이, 이름)]`\n",
    "  - 튜플과 리스트는 비슷하지만, 튜플은 \"변경 불가능(immutable)\"한 자료형\n",
    "  - 데이터 변경을 방지하고 속도를 향상시키기 위해 `[[]]` 대신 `[()]` 로 사용\n",
    "  - 나이가 동일하면 입력된 순서로 정렬을 해야 하기 때문에 주어지는 입력값 외 정보 추가\n",
    "- 나이를 기준으로 오름차순 정렬을 한다\n",
    "- 나이가 같으면 가입 순서대로 오름차순 정렬을 한다\n",
    "\n",
    "#### **`map()` 과 `lambda()`**\n",
    "\n",
    "lambda함수의 기본구조는 다음과 같으며 return 값은 없다.  \n",
    "\n",
    "```python\n",
    "lambda <매개변수1>, <매개변수2>...  : 매개변수를 이용한 식(if 문이 나올 수 있음)\n",
    "```   \n",
    "\n",
    "lambda함수는 map함수와 연결하여 자주 사용된다. map함수의 기본구조는 다음과 같다.  \n",
    "\n",
    "```python\n",
    "map(함수, 반복가능한 자료형)\n",
    "``` "
   ]
  },
  {
   "cell_type": "code",
   "execution_count": null,
   "metadata": {},
   "outputs": [],
   "source": [
    "import sys\n",
    "\n",
    "mem_num = int(sys.stdin.readline().strip())\n",
    "mem_info = []\n",
    "for i in range(mem_num):\n",
    "    info = sys.stdin.readline().strip().split()\n",
    "    age, name = int(info[0]), info[1]\n",
    "    mem_info.append((i, age, name))\n",
    "\n",
    "mem_info = sorted(mem_info, key=lambda mem: (mem[1], mem[0]))  # 정렬: 1순위: 나이, 2순위: 입력순서 \n",
    "print(\"\\n\".join(map(lambda mem: f\"{mem[1]} {mem[2]}\", mem_info)))"
   ]
  }
 ],
 "metadata": {
  "language_info": {
   "name": "python"
  }
 },
 "nbformat": 4,
 "nbformat_minor": 2
}
